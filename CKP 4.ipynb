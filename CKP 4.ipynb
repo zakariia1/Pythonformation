{
 "cells": [
  {
   "cell_type": "code",
   "execution_count": 2,
   "id": "5d41e66a",
   "metadata": {},
   "outputs": [
    {
     "ename": "SyntaxError",
     "evalue": "invalid syntax (3775920216.py, line 7)",
     "output_type": "error",
     "traceback": [
      "\u001b[1;36m  Cell \u001b[1;32mIn[2], line 7\u001b[1;36m\u001b[0m\n\u001b[1;33m    return(self.x,self.y,self.z):\u001b[0m\n\u001b[1;37m                                ^\u001b[0m\n\u001b[1;31mSyntaxError\u001b[0m\u001b[1;31m:\u001b[0m invalid syntax\n"
     ]
    }
   ],
   "source": [
    "class Point3D:\n",
    "    def __init__(self,x,y,z):\n",
    "        self.x=x\n",
    "        self.y=y\n",
    "        self.z=z\n",
    "        def __repr__(self):\n",
    "            return(self.x,self.y,self.z):\n",
    "            \n",
    "my_point=Point3D(x=1,y=2,z=3)\n",
    "my_point()"
   ]
  },
  {
   "cell_type": "code",
   "execution_count": 6,
   "id": "e8aac1cb",
   "metadata": {},
   "outputs": [
    {
     "name": "stdout",
     "output_type": "stream",
     "text": [
      "Area: 15\n",
      "Perimeter: 16\n"
     ]
    }
   ],
   "source": [
    "class Rectangle:\n",
    "    def __init__(self, length, width):\n",
    "        self.length = length\n",
    "        self.width = width\n",
    "\n",
    "    def area(self):\n",
    "        return self.length * self.width\n",
    "\n",
    "    def perimeter(self):\n",
    "        return 2 * (self.length + self.width)\n",
    "\n",
    "my_rectangle = Rectangle(length=5, width=3)\n",
    "area=my_rectangle.area()\n",
    "perimeter=my_rectangle.perimeter()\n",
    "print(f\"Area: {area}\")\n",
    "print(f\"Perimeter: {perimeter}\")"
   ]
  },
  {
   "cell_type": "code",
   "execution_count": 14,
   "id": "071f86a1",
   "metadata": {},
   "outputs": [
    {
     "name": "stdout",
     "output_type": "stream",
     "text": [
      "Deposit successful.\n",
      "Withdrawal successful.\n",
      "Remaining balance: $1300\n"
     ]
    }
   ],
   "source": [
    "class Bank:\n",
    "    def __init__(self, initial_balance=0):\n",
    "        self.balance = initial_balance\n",
    "\n",
    "    def deposit(self, amount):\n",
    "        if amount > 0:\n",
    "            self.balance += amount\n",
    "            return True\n",
    "        else:\n",
    "            return False\n",
    "\n",
    "    def withdraw(self, amount):\n",
    "        if 0 < amount <= self.balance:\n",
    "            self.balance -= amount\n",
    "            return True\n",
    "        else:\n",
    "            return False\n",
    "\n",
    "# Create an instance of Bank with an initial balance of $1000\n",
    "my_account = Bank(initial_balance=1000)\n",
    "\n",
    "# Deposit $500 into the account\n",
    "if my_account.deposit(500):\n",
    "    print(\"Deposit successful.\")\n",
    "else:\n",
    "    print(\"Invalid deposit amount.\")\n",
    "\n",
    "# Withdraw $200 from the account\n",
    "if my_account.withdraw(200):\n",
    "    print(\"Withdrawal successful.\")\n",
    "else:\n",
    "    print(\"Insufficient funds for withdrawal.\")\n",
    "\n",
    "# Print the remaining balance\n",
    "print(f\"Remaining balance: ${my_account.balance}\")"
   ]
  },
  {
   "cell_type": "code",
   "execution_count": 20,
   "id": "85f28142",
   "metadata": {},
   "outputs": [
    {
     "name": "stdout",
     "output_type": "stream",
     "text": [
      "Area: 78.53981633974483\n",
      "Perimeter: 31.41592653589793\n",
      "Point (2, 2) is inside the circle: True\n",
      "Point (6, 6) is inside the circle: False\n"
     ]
    }
   ],
   "source": [
    "import math\n",
    "\n",
    "class Circle:\n",
    "    def __init__(self,  r):\n",
    "        \n",
    "        self.r = r\n",
    "\n",
    "    def area(self):\n",
    "        return math.pi * self.r ** 2\n",
    "\n",
    "    def perimeter(self):\n",
    "        return 2 * math.pi * self.r\n",
    "\n",
    "    def is_inside(self, point_x, point_y):\n",
    "        distance = math.sqrt((point_x  + point_y ) ** 2)\n",
    "        return distance <= self.r\n",
    "\n",
    "# Create an instance of Circle\n",
    "my_circle = Circle( r=5)\n",
    "\n",
    "# Calculate and print the area and perimeter\n",
    "area = my_circle.area()\n",
    "perimeter = my_circle.perimeter()\n",
    "\n",
    "print(f\"Area: {area}\")\n",
    "print(f\"Perimeter: {perimeter}\")\n",
    "\n",
    "# Test if points are inside the circle\n",
    "point1 = (2, 2)\n",
    "point2 = (6, 6)\n",
    "\n",
    "print(f\"Point {point1} is inside the circle: {my_circle.is_inside(*point1)}\")\n",
    "print(f\"Point {point2} is inside the circle: {my_circle.is_inside(*point2)}\")"
   ]
  },
  {
   "cell_type": "code",
   "execution_count": null,
   "id": "67d8bc19",
   "metadata": {},
   "outputs": [],
   "source": []
  }
 ],
 "metadata": {
  "kernelspec": {
   "display_name": "Python 3 (ipykernel)",
   "language": "python",
   "name": "python3"
  },
  "language_info": {
   "codemirror_mode": {
    "name": "ipython",
    "version": 3
   },
   "file_extension": ".py",
   "mimetype": "text/x-python",
   "name": "python",
   "nbconvert_exporter": "python",
   "pygments_lexer": "ipython3",
   "version": "3.10.9"
  }
 },
 "nbformat": 4,
 "nbformat_minor": 5
}
