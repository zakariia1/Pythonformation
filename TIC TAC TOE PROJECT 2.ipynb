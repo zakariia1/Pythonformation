{
 "cells": [
  {
   "cell_type": "code",
   "execution_count": null,
   "id": "0cd816a9",
   "metadata": {},
   "outputs": [],
   "source": [
    "import tkinter as tk\n",
    "from tkinter import messagebox\n",
    "\n",
    "root = tk.Tk()\n",
    "root.title(\"TIC-TAC-TOE\")\n",
    "\n",
    "digits = [1, 2, 3, 4, 5, 6, 7, 8, 9]\n",
    "          \n",
    "mark = ''\n",
    "\n",
    "count = 0\n",
    "\n",
    "panels = ['panel', ' ', ' ', ' ', ' ', ' ', ' ', ' ', ' ', ' ', ' ']\n",
    "\n",
    "root.mainloop()"
   ]
  },
  {
   "cell_type": "code",
   "execution_count": null,
   "id": "7bf51f03",
   "metadata": {},
   "outputs": [],
   "source": [
    "def checker(digit):\n",
    "    global count, mark, digits\n",
    "\n",
    "    if digit == 1 and 1 in digits:\n",
    "        digits.remove(1)\n",
    "        if count % 2 == 0:\n",
    "            mark = 'X'\n",
    "            button1.config(text=mark)\n",
    "        else:\n",
    "            mark = 'O'\n",
    "            button1.config(text=mark)\n",
    "        count += 1\n",
    "        if count > 4 and win(mark):\n",
    "            messagebox.showinfo(\"TIC-TAC-TOE\", \"Player1 wins\")\n",
    "            root.destroy()\n",
    "    elif digit == 2 and 2 in digits:\n",
    "        digits.remove(2)\n",
    "        if count % 2 == 0:\n",
    "            mark = 'X'\n",
    "            button2.config(text=mark)\n",
    "        else:\n",
    "            mark = 'O'\n",
    "            button2.config(text=mark)\n",
    "        count += 1\n",
    "        if count > 4 and win(mark):\n",
    "            messagebox.showinfo(\"TIC-TAC-TOE\", \"Player1 wins\")\n",
    "            root.destroy()\n",
    "    # Continue this pattern for digits 3 through 9...\n",
    "\n",
    "    if count > 8:\n",
    "        messagebox.showinfo(\"TIC-TAC-TOE\", \"Match Tied\")\n",
    "        root.destroy()\n"
   ]
  },
  {
   "cell_type": "code",
   "execution_count": null,
   "id": "b1071996",
   "metadata": {},
   "outputs": [],
   "source": []
  }
 ],
 "metadata": {
  "kernelspec": {
   "display_name": "Python 3 (ipykernel)",
   "language": "python",
   "name": "python3"
  },
  "language_info": {
   "codemirror_mode": {
    "name": "ipython",
    "version": 3
   },
   "file_extension": ".py",
   "mimetype": "text/x-python",
   "name": "python",
   "nbconvert_exporter": "python",
   "pygments_lexer": "ipython3",
   "version": "3.10.9"
  }
 },
 "nbformat": 4,
 "nbformat_minor": 5
}
