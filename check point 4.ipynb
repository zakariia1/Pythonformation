{
 "cells": [
  {
   "cell_type": "code",
   "execution_count": 11,
   "id": "f9f5fcee",
   "metadata": {},
   "outputs": [
    {
     "name": "stdout",
     "output_type": "stream",
     "text": [
      "Entrer un chiffre: 1\n",
      "Entrer un opérateur: *\n",
      "Entrer un deuxième chiffre: 5\n",
      "5\n"
     ]
    }
   ],
   "source": [
    "Y= int(input('Entrer un chiffre: '))\n",
    "X=input('Entrer un opérateur: ')\n",
    "Z=int(input('Entrer un deuxième chiffre: '))\n",
    "def calculator (num1, num2):\n",
    "    if X=='+':\n",
    "        return num1 +num2\n",
    "    elif X=='-':\n",
    "         return num1 - num2\n",
    "    elif X=='/':\n",
    "        return num1 / num2\n",
    "    else:\n",
    "        return num1*num2\n",
    "        \n",
    "print(calculator(Y,Z))"
   ]
  },
  {
   "cell_type": "code",
   "execution_count": null,
   "id": "669e11ad",
   "metadata": {},
   "outputs": [],
   "source": []
  },
  {
   "cell_type": "code",
   "execution_count": null,
   "id": "968443a7",
   "metadata": {},
   "outputs": [],
   "source": []
  }
 ],
 "metadata": {
  "kernelspec": {
   "display_name": "Python 3 (ipykernel)",
   "language": "python",
   "name": "python3"
  },
  "language_info": {
   "codemirror_mode": {
    "name": "ipython",
    "version": 3
   },
   "file_extension": ".py",
   "mimetype": "text/x-python",
   "name": "python",
   "nbconvert_exporter": "python",
   "pygments_lexer": "ipython3",
   "version": "3.10.9"
  }
 },
 "nbformat": 4,
 "nbformat_minor": 5
}
