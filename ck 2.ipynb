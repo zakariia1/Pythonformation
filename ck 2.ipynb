{
 "cells": [
  {
   "cell_type": "code",
   "execution_count": null,
   "id": "aedbb0bd",
   "metadata": {},
   "outputs": [],
   "source": [
    "import random\n",
    "X=random.randint(1,101)\n",
    "for i in range(8):\n",
    "    Y=int(input(\"entrez ....\"))\n",
    "    if X==Y:\n",
    "        print('OK')\n",
    "        break\n",
    "    elif X>Y:\n",
    "        print('The num is too low')\n",
    "    else:\n",
    "        print('The num is too heigh')\n",
    "    "
   ]
  }
 ],
 "metadata": {
  "kernelspec": {
   "display_name": "Python 3 (ipykernel)",
   "language": "python",
   "name": "python3"
  },
  "language_info": {
   "codemirror_mode": {
    "name": "ipython",
    "version": 3
   },
   "file_extension": ".py",
   "mimetype": "text/x-python",
   "name": "python",
   "nbconvert_exporter": "python",
   "pygments_lexer": "ipython3",
   "version": "3.10.9"
  }
 },
 "nbformat": 4,
 "nbformat_minor": 5
}
