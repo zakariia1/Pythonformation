{
 "cells": [
  {
   "cell_type": "code",
   "execution_count": 82,
   "id": "a8036d51",
   "metadata": {},
   "outputs": [
    {
     "name": "stdout",
     "output_type": "stream",
     "text": [
      "36\n"
     ]
    }
   ],
   "source": [
    "li=[2,3,6]\n",
    "x=1\n",
    "for i in li:\n",
    "    x=x*i\n",
    "\n",
    "print(x)\n",
    "    "
   ]
  },
  {
   "cell_type": "code",
   "execution_count": 48,
   "id": "1da6830b",
   "metadata": {},
   "outputs": [
    {
     "name": "stdout",
     "output_type": "stream",
     "text": [
      "{'a': 400, 'b': 400, 'c': 300, 'd': 400}\n"
     ]
    }
   ],
   "source": [
    "d1 = {'a': 100, 'b': 200, 'c':300}\n",
    "d2 = {'a': 300, 'b': 200, 'd':400}\n",
    "d3 = {}\n",
    "for key in d1.keys():\n",
    "    if key in d2.keys():\n",
    "        d3[key]=d1[key]+d2[key]\n",
    "    else:\n",
    "        d3[key]=d1[key]\n",
    "for key in d2.keys():\n",
    "    if key not in d1.keys():\n",
    "        d3[key]=d2[key]\n",
    "print(d3)\n",
    "        \n",
    "\n",
    "    \n",
    "\n",
    "\n"
   ]
  },
  {
   "cell_type": "code",
   "execution_count": 85,
   "id": "64a625d5",
   "metadata": {},
   "outputs": [
    {
     "name": "stdout",
     "output_type": "stream",
     "text": [
      "[(2, 1), (1, 2), (2, 3), (4, 4), (2, 5)]\n"
     ]
    }
   ],
   "source": [
    "\n",
    "li = [(2, 5), (1, 2), (4, 4), (2, 3), (2, 1)]\n",
    "li.sort(key=lambda y:y[1])\n",
    "print(li)"
   ]
  },
  {
   "cell_type": "code",
   "execution_count": 70,
   "id": "6e3e86a4",
   "metadata": {},
   "outputs": [
    {
     "name": "stdout",
     "output_type": "stream",
     "text": [
      "Entrer un nombre:8\n",
      "{1: 1, 2: 4, 3: 9, 4: 16, 5: 25, 6: 36, 7: 49, 8: 64}\n"
     ]
    }
   ],
   "source": [
    "R=int(input('Entrer un nombre:'))\n",
    "S={}\n",
    "for i in range (1,R+1):\n",
    "    S[i] = i*i\n",
    "print(S)"
   ]
  },
  {
   "cell_type": "code",
   "execution_count": 87,
   "id": "91c9ca93",
   "metadata": {},
   "outputs": [
    {
     "name": "stdout",
     "output_type": "stream",
     "text": [
      "[('item3', '24.5'), ('item2', '15.10'), ('item1', '12.20')]\n"
     ]
    }
   ],
   "source": [
    "List= [('item1', '12.20'), ('item2', '15.10'), ('item3', '24.5')]\n",
    "List.sort(reverse = True)\n",
    "print(List)"
   ]
  },
  {
   "cell_type": "code",
   "execution_count": 90,
   "id": "bb43d8b1",
   "metadata": {},
   "outputs": [
    {
     "name": "stdout",
     "output_type": "stream",
     "text": [
      "0\n",
      "1\n",
      "2\n",
      "3\n",
      "4\n"
     ]
    }
   ],
   "source": [
    "S={0,1,2,3,4}\n",
    "for i in S:\n",
    "    print(i)"
   ]
  },
  {
   "cell_type": "code",
   "execution_count": null,
   "id": "261cb455",
   "metadata": {},
   "outputs": [],
   "source": []
  }
 ],
 "metadata": {
  "kernelspec": {
   "display_name": "Python 3 (ipykernel)",
   "language": "python",
   "name": "python3"
  },
  "language_info": {
   "codemirror_mode": {
    "name": "ipython",
    "version": 3
   },
   "file_extension": ".py",
   "mimetype": "text/x-python",
   "name": "python",
   "nbconvert_exporter": "python",
   "pygments_lexer": "ipython3",
   "version": "3.10.9"
  }
 },
 "nbformat": 4,
 "nbformat_minor": 5
}
