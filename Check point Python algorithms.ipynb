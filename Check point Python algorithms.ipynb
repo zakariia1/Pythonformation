{
 "cells": [
  {
   "cell_type": "code",
   "execution_count": 1,
   "id": "6904fd69",
   "metadata": {},
   "outputs": [
    {
     "name": "stdout",
     "output_type": "stream",
     "text": [
      "False\n",
      "True\n"
     ]
    }
   ],
   "source": [
    "def binary_search(arr, target):\n",
    "    left, right = 0, len(arr) - 1\n",
    "    \n",
    "    while left <= right:\n",
    "        mid = (left + right) // 2  \n",
    "        \n",
    "        if arr[mid] == target:\n",
    "            return True  \n",
    "        elif arr[mid] < target:\n",
    "            left = mid + 1  \n",
    "        else:\n",
    "            right = mid - 1  \n",
    "    \n",
    "    return False  \n",
    "\n",
    "# Test cases\n",
    "arr1 = [1, 2, 3, 5, 8]\n",
    "target1 = 6\n",
    "result1 = binary_search(arr1, target1)\n",
    "print(result1)  \n",
    "\n",
    "arr2 = [1, 2, 3, 5, 8]\n",
    "target2 = 5\n",
    "result2 = binary_search(arr2, target2)\n",
    "print(result2)  "
   ]
  },
  {
   "cell_type": "code",
   "execution_count": 3,
   "id": "3f137e79",
   "metadata": {},
   "outputs": [
    {
     "name": "stdout",
     "output_type": "stream",
     "text": [
      "81\n"
     ]
    }
   ],
   "source": [
    "def power(a, b):\n",
    "    result = a ** b  \n",
    "    return result\n",
    "\n",
    "a = 3\n",
    "b = 4\n",
    "result = power(a, b)\n",
    "print(result)"
   ]
  },
  {
   "cell_type": "code",
   "execution_count": 4,
   "id": "926d0e3e",
   "metadata": {},
   "outputs": [
    {
     "name": "stdout",
     "output_type": "stream",
     "text": [
      "[13, 22, 29, 37, 46, 49, 52, 56, 71]\n"
     ]
    }
   ],
   "source": [
    "def bubble_sort(arr):\n",
    "    n = len(arr)\n",
    "    \n",
    "    # Traverse through all elements in the list\n",
    "    for i in range(n):\n",
    "        # Last i elements are already in place, so we don't need to check them\n",
    "        for j in range(0, n-i-1):\n",
    "            # Swap if the element found is greater than the next element\n",
    "            if arr[j] > arr[j+1]:\n",
    "                arr[j], arr[j+1] = arr[j+1], arr[j]\n",
    "\n",
    "# Sample data\n",
    "data = [29, 13, 22, 37, 52, 49, 46, 71, 56]\n",
    "\n",
    "# Call the bubble_sort function to sort the data\n",
    "bubble_sort(data)\n",
    "\n",
    "# Print the sorted result\n",
    "print(data)  \n",
    "\n",
    "\n",
    "\n",
    "\n"
   ]
  },
  {
   "cell_type": "code",
   "execution_count": 5,
   "id": "606e1921",
   "metadata": {},
   "outputs": [
    {
     "name": "stdout",
     "output_type": "stream",
     "text": [
      "[13, 22, 29, 37, 46, 49, 52, 56, 71]\n"
     ]
    }
   ],
   "source": [
    "def merge_sort(arr):\n",
    "    if len(arr) > 1:\n",
    "        mid = len(arr) // 2  # Find the middle of the list\n",
    "        left_half = arr[:mid]  # Divide the list into two halves\n",
    "        right_half = arr[mid:]\n",
    "\n",
    "        merge_sort(left_half)  # Recursively sort the left half\n",
    "        merge_sort(right_half)  # Recursively sort the right half\n",
    "\n",
    "        i = j = k = 0\n",
    "\n",
    "        # Merge the two sorted halves\n",
    "        while i < len(left_half) and j < len(right_half):\n",
    "            if left_half[i] < right_half[j]:\n",
    "                arr[k] = left_half[i]\n",
    "                i += 1\n",
    "            else:\n",
    "                arr[k] = right_half[j]\n",
    "                j += 1\n",
    "            k += 1\n",
    "\n",
    "        # Check for any remaining elements in the left and right halves\n",
    "        while i < len(left_half):\n",
    "            arr[k] = left_half[i]\n",
    "            i += 1\n",
    "            k += 1\n",
    "\n",
    "        while j < len(right_half):\n",
    "            arr[k] = right_half[j]\n",
    "            j += 1\n",
    "            k += 1\n",
    "\n",
    "# Sample data\n",
    "data = [29, 13, 22, 37, 52, 49, 46, 71, 56]\n",
    "\n",
    "# Call the merge_sort function to sort the data\n",
    "merge_sort(data)\n",
    "\n",
    "# Print the sorted result\n",
    "print(data)  # Output: [13, 22, 29, 37, 46, 49, 52, 56, 71]"
   ]
  },
  {
   "cell_type": "code",
   "execution_count": 6,
   "id": "3795688b",
   "metadata": {},
   "outputs": [
    {
     "name": "stdout",
     "output_type": "stream",
     "text": [
      "[13, 22, 29, 37, 46, 49, 52, 56, 71]\n"
     ]
    }
   ],
   "source": [
    "def quick_sort(arr):\n",
    "    if len(arr) <= 1:\n",
    "        return arr\n",
    "    \n",
    "    pivot = arr[len(arr) // 2]  # Choose a pivot element\n",
    "    left = [x for x in arr if x < pivot]  # Elements less than the pivot\n",
    "    middle = [x for x in arr if x == pivot]  # Elements equal to the pivot\n",
    "    right = [x for x in arr if x > pivot]  # Elements greater than the pivot\n",
    "    \n",
    "    return quick_sort(left) + middle + quick_sort(right)\n",
    "\n",
    "# Sample data\n",
    "data = [29, 13, 22, 37, 52, 49, 46, 71, 56]\n",
    "\n",
    "# Call the quick_sort function to sort the data\n",
    "sorted_data = quick_sort(data)\n",
    "\n",
    "# Print the sorted result\n",
    "print(sorted_data)  # Output: [13, 22, 29, 37, 46, 49, 52, 56, 71]"
   ]
  },
  {
   "cell_type": "code",
   "execution_count": null,
   "id": "02cf0a8e",
   "metadata": {},
   "outputs": [],
   "source": []
  }
 ],
 "metadata": {
  "kernelspec": {
   "display_name": "Python 3 (ipykernel)",
   "language": "python",
   "name": "python3"
  },
  "language_info": {
   "codemirror_mode": {
    "name": "ipython",
    "version": 3
   },
   "file_extension": ".py",
   "mimetype": "text/x-python",
   "name": "python",
   "nbconvert_exporter": "python",
   "pygments_lexer": "ipython3",
   "version": "3.10.9"
  }
 },
 "nbformat": 4,
 "nbformat_minor": 5
}
