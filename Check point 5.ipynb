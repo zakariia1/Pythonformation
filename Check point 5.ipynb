{
 "cells": [
  {
   "cell_type": "code",
   "execution_count": null,
   "id": "f2399707",
   "metadata": {},
   "outputs": [],
   "source": [
    "import numpy as np\n",
    "\n",
    "# Ask the user to enter the number of students and subjects\n",
    "num_students = int(input(\"Enter the number of students: \"))\n",
    "num_subjects = int(input(\"Enter the number of subjects: \"))\n",
    "\n",
    "# Create an empty NumPy array to store the marks\n",
    "marks_array = np.zeros((num_students, num_subjects))\n",
    "\n",
    "# Ask the user to enter the marks for each student in each subject\n",
    "for i in range(num_students):\n",
    "    for j in range(num_subjects):\n",
    "        marks_array[i, j] = float(input(f\"Enter marks for student {i + 1}, subject {j + 1}: \"))\n",
    "\n",
    "# Calculate total marks for each student\n",
    "total_marks = np.sum(marks_array, axis=1)\n",
    "\n",
    "# Calculate percentage for each student\n",
    "percentage = (total_marks / (num_subjects * 100)) * 100\n",
    "\n",
    "# Calculate grade for each student\n",
    "def calculate_grade(percentage):\n",
    "    if percentage >= 90:\n",
    "        return 'A+'\n",
    "    elif percentage >= 80:\n",
    "        return 'A'\n",
    "    elif percentage >= 70:\n",
    "        return 'B+'\n",
    "    elif percentage >= 60:\n",
    "        return 'B'\n",
    "    elif percentage >= 50:\n",
    "        return 'C'\n",
    "    else:\n",
    "        return 'F'\n",
    "\n",
    "# Create a table to display the results\n",
    "print(\"\\nStudent\\tTotal Marks\\tPercentage\\tGrade\")\n",
    "print(\"----------------------------------------\")\n",
    "for i in range(num_students):\n",
    "    grade = calculate_grade(percentage[i])\n",
    "    print(f\"{i + 1}\\t{total_marks[i]}\\t\\t{percentage[i]:.2f}%\\t\\t{grade}\")"
   ]
  },
  {
   "cell_type": "code",
   "execution_count": null,
   "id": "452c2f15",
   "metadata": {},
   "outputs": [],
   "source": []
  }
 ],
 "metadata": {
  "kernelspec": {
   "display_name": "Python 3 (ipykernel)",
   "language": "python",
   "name": "python3"
  },
  "language_info": {
   "codemirror_mode": {
    "name": "ipython",
    "version": 3
   },
   "file_extension": ".py",
   "mimetype": "text/x-python",
   "name": "python",
   "nbconvert_exporter": "python",
   "pygments_lexer": "ipython3",
   "version": "3.10.9"
  }
 },
 "nbformat": 4,
 "nbformat_minor": 5
}
